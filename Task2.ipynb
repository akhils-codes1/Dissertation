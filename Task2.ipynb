{
  "nbformat": 4,
  "nbformat_minor": 0,
  "metadata": {
    "colab": {
      "provenance": [],
      "authorship_tag": "ABX9TyPKsSqiQ6UHQYSGsvZ6TZcQ",
      "include_colab_link": true
    },
    "kernelspec": {
      "name": "python3",
      "display_name": "Python 3"
    },
    "language_info": {
      "name": "python"
    }
  },
  "cells": [
    {
      "cell_type": "markdown",
      "metadata": {
        "id": "view-in-github",
        "colab_type": "text"
      },
      "source": [
        "<a href=\"https://colab.research.google.com/github/akhils-codes1/Dissertation/blob/main/Task2.ipynb\" target=\"_parent\"><img src=\"https://colab.research.google.com/assets/colab-badge.svg\" alt=\"Open In Colab\"/></a>"
      ]
    },
    {
      "cell_type": "markdown",
      "source": [
        "To convert a string or a message into bytes, we use `str.encode('ascii')` or `str.encode('utf-8')`"
      ],
      "metadata": {
        "id": "oVuRhcceoyXL"
      }
    },
    {
      "cell_type": "code",
      "source": [
        "message = 'Python is fun'"
      ],
      "metadata": {
        "id": "fAk20rDEpYK7"
      },
      "execution_count": 10,
      "outputs": []
    },
    {
      "cell_type": "code",
      "source": [
        "message.encode('ascii')"
      ],
      "metadata": {
        "colab": {
          "base_uri": "https://localhost:8080/"
        },
        "id": "qytMdDqRpbB7",
        "outputId": "2af24676-852d-4d45-9a3b-edc7b64c619f"
      },
      "execution_count": 11,
      "outputs": [
        {
          "output_type": "execute_result",
          "data": {
            "text/plain": [
              "b'Python is fun'"
            ]
          },
          "metadata": {},
          "execution_count": 11
        }
      ]
    },
    {
      "cell_type": "code",
      "source": [
        "message.encode('utf-8')"
      ],
      "metadata": {
        "colab": {
          "base_uri": "https://localhost:8080/"
        },
        "id": "tHcIiwr2pa_l",
        "outputId": "ef90a44f-3c53-4e2d-dae0-687b50596456"
      },
      "execution_count": 12,
      "outputs": [
        {
          "output_type": "execute_result",
          "data": {
            "text/plain": [
              "b'Python is fun'"
            ]
          },
          "metadata": {},
          "execution_count": 12
        }
      ]
    },
    {
      "cell_type": "markdown",
      "source": [
        "Now, to convert a message into base64 encoding, we use `b64encode` function in `base64` library"
      ],
      "metadata": {
        "id": "JskSYDYMpa9g"
      }
    },
    {
      "cell_type": "code",
      "source": [
        "enc_res = b64encode(message.encode('ascii'))\n",
        "enc_res"
      ],
      "metadata": {
        "colab": {
          "base_uri": "https://localhost:8080/"
        },
        "id": "HNyLzGZmppZ1",
        "outputId": "f8a6cf26-c190-4e2c-d464-26f56f43d827"
      },
      "execution_count": 40,
      "outputs": [
        {
          "output_type": "execute_result",
          "data": {
            "text/plain": [
              "b'UHl0aG9uIGlzIGZ1bg=='"
            ]
          },
          "metadata": {},
          "execution_count": 40
        }
      ]
    },
    {
      "cell_type": "markdown",
      "source": [
        "Now, the base64 encoded string can be converted into original string using `b64decode` function of `base64` library"
      ],
      "metadata": {
        "id": "AGjNP-EAptza"
      }
    },
    {
      "cell_type": "code",
      "source": [
        "dec_res = b64decode(enc_res)\n",
        "dec_res"
      ],
      "metadata": {
        "colab": {
          "base_uri": "https://localhost:8080/"
        },
        "id": "ayUyp9dSp9X9",
        "outputId": "caf3c8da-39d2-4e26-d4c8-820819ec4a0f"
      },
      "execution_count": 15,
      "outputs": [
        {
          "output_type": "execute_result",
          "data": {
            "text/plain": [
              "b'Python is fun'"
            ]
          },
          "metadata": {},
          "execution_count": 15
        }
      ]
    },
    {
      "cell_type": "markdown",
      "source": [
        "But, we have to convert this bytes into `ascii` or `utf-8` using `message_bytes.decode('ascii')` or `message_bytes.decode('utf-8')`"
      ],
      "metadata": {
        "id": "d77O8CsHp9Sm"
      }
    },
    {
      "cell_type": "code",
      "source": [
        "dec_res.decode('ascii')"
      ],
      "metadata": {
        "colab": {
          "base_uri": "https://localhost:8080/",
          "height": 35
        },
        "id": "NFXmmP8Er4-P",
        "outputId": "8fce9e3d-021f-49ae-b90c-acf765049d5f"
      },
      "execution_count": 16,
      "outputs": [
        {
          "output_type": "execute_result",
          "data": {
            "text/plain": [
              "'Python is fun'"
            ],
            "application/vnd.google.colaboratory.intrinsic+json": {
              "type": "string"
            }
          },
          "metadata": {},
          "execution_count": 16
        }
      ]
    },
    {
      "cell_type": "code",
      "source": [
        "dec_res.decode('utf-8')"
      ],
      "metadata": {
        "colab": {
          "base_uri": "https://localhost:8080/",
          "height": 35
        },
        "id": "ecvtfZL6r-DT",
        "outputId": "5a74e2ae-24ea-4470-bb8e-2e05485bf883"
      },
      "execution_count": 17,
      "outputs": [
        {
          "output_type": "execute_result",
          "data": {
            "text/plain": [
              "'Python is fun'"
            ],
            "application/vnd.google.colaboratory.intrinsic+json": {
              "type": "string"
            }
          },
          "metadata": {},
          "execution_count": 17
        }
      ]
    },
    {
      "cell_type": "markdown",
      "source": [
        "Thus the above all can be bundled as functions as below"
      ],
      "metadata": {
        "id": "97tJpH0_to9k"
      }
    },
    {
      "cell_type": "code",
      "source": [
        "def base64_encode(string):\n",
        "    #1. converting input string into bytes  \n",
        "    message_bytes = string.encode('ascii')\n",
        "    #2. converting this bytes into base-64 encoded format\n",
        "    base64_bytes = b64encode(message_bytes)#base64 encoding\n",
        "    #3. decoding this message into utf-8 format to display string \n",
        "    base64_message = base64_bytes.decode('utf-8')#bytes to ascii\n",
        "    #4. returning this message\n",
        "    return base64_message\n",
        "\n",
        "def base64_decode(string):\n",
        "    #since the encoding is performed into 'utf-8' format for displaying the encoded string, we need to decode it back to bytes format\n",
        "    base64_bytes = string.encode('utf-8')\n",
        "    #decoding the \"base-64 encoded string\"\n",
        "    message_bytes = b64decode(base64_bytes)#base64 decoding\n",
        "    #decoding the bytes obtained into 'ascii' format back\n",
        "    message = message_bytes.decode('ascii')\n",
        "    return message"
      ],
      "metadata": {
        "id": "7Fhshmz8tsm2"
      },
      "execution_count": 36,
      "outputs": []
    },
    {
      "cell_type": "code",
      "source": [
        "enc_res = base64_encode('Python is fun')\n",
        "enc_res"
      ],
      "metadata": {
        "colab": {
          "base_uri": "https://localhost:8080/",
          "height": 35
        },
        "id": "v78XQlUnuerM",
        "outputId": "41db40df-614f-4ec0-85b5-9c7c05f2a3ff"
      },
      "execution_count": 37,
      "outputs": [
        {
          "output_type": "execute_result",
          "data": {
            "text/plain": [
              "'UHl0aG9uIGlzIGZ1bg=='"
            ],
            "application/vnd.google.colaboratory.intrinsic+json": {
              "type": "string"
            }
          },
          "metadata": {},
          "execution_count": 37
        }
      ]
    },
    {
      "cell_type": "code",
      "source": [
        "dec_res = base64_decode(enc_res)\n",
        "dec_res"
      ],
      "metadata": {
        "colab": {
          "base_uri": "https://localhost:8080/",
          "height": 35
        },
        "id": "QR00_0lZuimi",
        "outputId": "7aa4f8f6-5ce2-4593-a128-e0716528f0ab"
      },
      "execution_count": 38,
      "outputs": [
        {
          "output_type": "execute_result",
          "data": {
            "text/plain": [
              "'Python is fun'"
            ],
            "application/vnd.google.colaboratory.intrinsic+json": {
              "type": "string"
            }
          },
          "metadata": {},
          "execution_count": 38
        }
      ]
    },
    {
      "cell_type": "markdown",
      "source": [
        "**Note** : we may use only `utf-8` for achieving the encoding conversions above"
      ],
      "metadata": {
        "id": "558bBp-DvIDq"
      }
    },
    {
      "cell_type": "markdown",
      "source": [
        "> "
      ],
      "metadata": {
        "id": "k4KCK2ClsAgm"
      }
    },
    {
      "cell_type": "markdown",
      "source": [
        "Now, we will see hex encoding.\n",
        "* for using hex encoding, we need to convert our string into bytes \n",
        "* after converting, we need to use `message_bytes.hex()` function to convert our string into hexadecimal string"
      ],
      "metadata": {
        "id": "P_p6LmButDrU"
      }
    },
    {
      "cell_type": "code",
      "source": [
        "message_bytes = message.encode('ascii')\n",
        "message_bytes"
      ],
      "metadata": {
        "colab": {
          "base_uri": "https://localhost:8080/"
        },
        "id": "q4eoD7tas0Lv",
        "outputId": "6de51fda-3694-415b-fc60-28d3004f9751"
      },
      "execution_count": 31,
      "outputs": [
        {
          "output_type": "execute_result",
          "data": {
            "text/plain": [
              "b'Python is fun'"
            ]
          },
          "metadata": {},
          "execution_count": 31
        }
      ]
    },
    {
      "cell_type": "code",
      "source": [
        "hex_enc = message_bytes.hex()\n",
        "hex_enc"
      ],
      "metadata": {
        "colab": {
          "base_uri": "https://localhost:8080/",
          "height": 35
        },
        "id": "98mN6OECtg7a",
        "outputId": "31769e94-6ee2-4c73-c27c-3b47159c8a35"
      },
      "execution_count": 32,
      "outputs": [
        {
          "output_type": "execute_result",
          "data": {
            "text/plain": [
              "'507974686f6e2069732066756e'"
            ],
            "application/vnd.google.colaboratory.intrinsic+json": {
              "type": "string"
            }
          },
          "metadata": {},
          "execution_count": 32
        }
      ]
    },
    {
      "cell_type": "markdown",
      "source": [
        "Now, we can convert this hexadecimal string into original string by\n",
        "* converting the above string into bytes using `bytes.fromhex()` function.\n",
        "* and these bytes to original string using `message_bytes.decode('ascii')`"
      ],
      "metadata": {
        "id": "zy7uaZYYtkGs"
      }
    },
    {
      "cell_type": "code",
      "source": [
        "hex_bytes = bytes.fromhex(hex_enc)\n",
        "hex_bytes"
      ],
      "metadata": {
        "colab": {
          "base_uri": "https://localhost:8080/"
        },
        "id": "7KEFc1OFs0DL",
        "outputId": "242452ff-ecb7-4be2-95cf-5563803430d1"
      },
      "execution_count": 42,
      "outputs": [
        {
          "output_type": "execute_result",
          "data": {
            "text/plain": [
              "b'Python is fun'"
            ]
          },
          "metadata": {},
          "execution_count": 42
        }
      ]
    },
    {
      "cell_type": "code",
      "source": [
        "dec_res = hex_bytes.decode('ascii')\n",
        "dec_res"
      ],
      "metadata": {
        "colab": {
          "base_uri": "https://localhost:8080/",
          "height": 35
        },
        "id": "Nz7yLSJtwEBG",
        "outputId": "588653f7-ff64-4b7c-9303-32ca7f74af23"
      },
      "execution_count": 43,
      "outputs": [
        {
          "output_type": "execute_result",
          "data": {
            "text/plain": [
              "'Python is fun'"
            ],
            "application/vnd.google.colaboratory.intrinsic+json": {
              "type": "string"
            }
          },
          "metadata": {},
          "execution_count": 43
        }
      ]
    },
    {
      "cell_type": "markdown",
      "source": [
        "Thus the above all can be bundled as functions as below"
      ],
      "metadata": {
        "id": "-WLWruGOwIwq"
      }
    },
    {
      "cell_type": "code",
      "source": [
        "def hex_encode(s):\n",
        "  message_bytes = s.encode('utf-8')\n",
        "  return message_bytes.hex()\n",
        "\n",
        "def hex_decode(s):\n",
        "  message_bytes = bytes.fromhex(s)\n",
        "  return message_bytes.decode('utf-8')"
      ],
      "metadata": {
        "id": "voNycg3TwO7t"
      },
      "execution_count": 44,
      "outputs": []
    },
    {
      "cell_type": "code",
      "source": [
        "message = 'Python is fun'\n",
        "enc_res = hex_encode(message)\n",
        "enc_res"
      ],
      "metadata": {
        "colab": {
          "base_uri": "https://localhost:8080/",
          "height": 35
        },
        "id": "AkoLJeyLwhia",
        "outputId": "ec63de79-8333-4724-9637-c6e23a8270e0"
      },
      "execution_count": 45,
      "outputs": [
        {
          "output_type": "execute_result",
          "data": {
            "text/plain": [
              "'507974686f6e2069732066756e'"
            ],
            "application/vnd.google.colaboratory.intrinsic+json": {
              "type": "string"
            }
          },
          "metadata": {},
          "execution_count": 45
        }
      ]
    },
    {
      "cell_type": "code",
      "source": [
        "dec_res = hex_decode(enc_res)\n",
        "dec_res"
      ],
      "metadata": {
        "colab": {
          "base_uri": "https://localhost:8080/",
          "height": 35
        },
        "id": "mwx63PObwoVf",
        "outputId": "6e9f03ed-1ec4-44a9-8c72-84ddf99fbc49"
      },
      "execution_count": 46,
      "outputs": [
        {
          "output_type": "execute_result",
          "data": {
            "text/plain": [
              "'Python is fun'"
            ],
            "application/vnd.google.colaboratory.intrinsic+json": {
              "type": "string"
            }
          },
          "metadata": {},
          "execution_count": 46
        }
      ]
    },
    {
      "cell_type": "markdown",
      "source": [
        ">"
      ],
      "metadata": {
        "id": "zPGNcinXwsyk"
      }
    },
    {
      "cell_type": "markdown",
      "source": [
        "We can also convert encoded strings from\n",
        "* base-64 into hex, and\n",
        "* hex to base-64"
      ],
      "metadata": {
        "id": "NtmEHZpJw02M"
      }
    },
    {
      "cell_type": "code",
      "execution_count": 2,
      "metadata": {
        "id": "zcsV00ggn-tG"
      },
      "outputs": [],
      "source": [
        "from base64 import b64encode, b64decode\n",
        "\n",
        "def hex_to_base64(s):\n",
        "    b64 = b64encode(bytes.fromhex(s)).decode()\n",
        "    return b64\n",
        "\n",
        "def base64_to_hex(b64):\n",
        "    s2 = b64decode(b64.encode()).hex()\n",
        "    return s2"
      ]
    },
    {
      "cell_type": "markdown",
      "source": [
        "**Base64 to hexadecimal encoding**"
      ],
      "metadata": {
        "id": "llg64fNexui8"
      }
    },
    {
      "cell_type": "code",
      "source": [
        "hex_enc = base64_to_hex(base64_encode(message))\n",
        "hex_enc"
      ],
      "metadata": {
        "colab": {
          "base_uri": "https://localhost:8080/",
          "height": 35
        },
        "id": "q82lP5jwxN4g",
        "outputId": "f946641e-a33c-436c-ee08-5c9c2e75e0fa"
      },
      "execution_count": 52,
      "outputs": [
        {
          "output_type": "execute_result",
          "data": {
            "text/plain": [
              "'507974686f6e2069732066756e'"
            ],
            "application/vnd.google.colaboratory.intrinsic+json": {
              "type": "string"
            }
          },
          "metadata": {},
          "execution_count": 52
        }
      ]
    },
    {
      "cell_type": "code",
      "source": [
        "hex_decode(hex_enc)"
      ],
      "metadata": {
        "colab": {
          "base_uri": "https://localhost:8080/",
          "height": 35
        },
        "id": "xDp3q6GAx0Dz",
        "outputId": "0a6859aa-6e53-4b8e-c25e-da7b56b58817"
      },
      "execution_count": 53,
      "outputs": [
        {
          "output_type": "execute_result",
          "data": {
            "text/plain": [
              "'Python is fun'"
            ],
            "application/vnd.google.colaboratory.intrinsic+json": {
              "type": "string"
            }
          },
          "metadata": {},
          "execution_count": 53
        }
      ]
    },
    {
      "cell_type": "markdown",
      "source": [
        "**Hex to base64 encoding**"
      ],
      "metadata": {
        "id": "HShQOnyax216"
      }
    },
    {
      "cell_type": "code",
      "source": [
        "base64_enc = hex_to_base64(hex_encode(message))\n",
        "base64_enc"
      ],
      "metadata": {
        "colab": {
          "base_uri": "https://localhost:8080/",
          "height": 35
        },
        "id": "syIBA3MUxCgg",
        "outputId": "1b04741f-c4dd-400e-d515-c30ab2a42a83"
      },
      "execution_count": 50,
      "outputs": [
        {
          "output_type": "execute_result",
          "data": {
            "text/plain": [
              "'UHl0aG9uIGlzIGZ1bg=='"
            ],
            "application/vnd.google.colaboratory.intrinsic+json": {
              "type": "string"
            }
          },
          "metadata": {},
          "execution_count": 50
        }
      ]
    },
    {
      "cell_type": "code",
      "source": [
        "base64_decode(base64_enc)"
      ],
      "metadata": {
        "colab": {
          "base_uri": "https://localhost:8080/",
          "height": 35
        },
        "id": "XwjSo21OxbD8",
        "outputId": "ee3c268b-8259-4a2e-ac72-bed6fad0176f"
      },
      "execution_count": 51,
      "outputs": [
        {
          "output_type": "execute_result",
          "data": {
            "text/plain": [
              "'Python is fun'"
            ],
            "application/vnd.google.colaboratory.intrinsic+json": {
              "type": "string"
            }
          },
          "metadata": {},
          "execution_count": 51
        }
      ]
    }
  ]
}